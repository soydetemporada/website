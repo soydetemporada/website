{
 "cells": [
  {
   "cell_type": "markdown",
   "metadata": {},
   "source": [
    "# Process Import/Export Mercasa data per month"
   ]
  },
  {
   "cell_type": "markdown",
   "metadata": {},
   "source": [
    "Get the data from the import/export files and convert it to our format. It works for the following products:\n",
    "\n",
    "['ACELGA', 'AJO', 'ALCACHOFA', 'APIO', 'BERENJENA', 'CALABACÍN',\n",
    "       'CALABAZA', 'CEBOLLA', 'COLES', 'ENDIVIA Y ESCAROLA', 'ESPÁRRAGO',\n",
    "       'ESPINACA', 'GUISANTE', 'JUDÍA', 'LECHUGA', 'MAÍZ DULCE', 'PATATA',\n",
    "       'PEPINO', 'PIMIENTO', 'PUERRO', 'TOMATE', 'ZANAHORIA Y NABO',\n",
    "       'AGUACATE', 'ALBARICOQUE', 'ARÁNDANO', 'CAQUI', 'CEREZA Y GUINDA',\n",
    "       'CIRUELA', 'FRAMBUESA', 'FRESA', 'GROSELLA', 'HIGO', 'KIWI', 'LIMÓN',\n",
    "       'MANDARINA', 'MANGO, GUAYABA', 'MANZANA', 'MELOCOTÓN', 'MELÓN', 'MORA',\n",
    "       'NARANJA', 'NECTARINA', 'OTROS CÍTRICOS', 'PERA', 'PIÑA', 'PLÁTANO',\n",
    "       'POMELO', 'SANDÍA', 'UVA DE MESA']\n",
    "       \n",
    "Not doing name maping, has to be done manually"
   ]
  },
  {
   "cell_type": "code",
   "execution_count": 1,
   "metadata": {
    "collapsed": true
   },
   "outputs": [],
   "source": [
    "import matplotlib.pyplot as plt\n",
    "import matplotlib\n",
    "import os\n",
    "import pandas as pd\n",
    "import numpy as np\n",
    "%matplotlib inline\n",
    "matplotlib.style.use('ggplot')\n",
    "import datetime\n",
    "import locale\n",
    "import time\n",
    "locale.setlocale(locale.LC_TIME, 'es_ES.UTF-8')\n",
    "import glob"
   ]
  },
  {
   "cell_type": "code",
   "execution_count": 2,
   "metadata": {
    "collapsed": true
   },
   "outputs": [],
   "source": [
    "product = 'acelga/'\n",
    "pro = 'production/'\n",
    "imp = 'import/'\n",
    "pwd = '/Volumes/MacintoshHD/_GitHub/journey-of-food/data/producto/'\n",
    "aux = '/Volumes/MacintoshHD/_GitHub/journey-of-food/data/aux/'\n",
    "dwd = '/Volumes/MacintoshHD/_GitHub/journey-of-food/data/raw/'"
   ]
  },
  {
   "cell_type": "code",
   "execution_count": 3,
   "metadata": {},
   "outputs": [
    {
     "data": {
      "text/plain": [
       "['.DS_Store',\n",
       " 'FH_EPRODMESK.xlsx',\n",
       " 'FH_EPRODPAISK.xlsx',\n",
       " 'FH_EPROVPRODK.xlsx',\n",
       " 'FH_IPRODMESK.xlsx',\n",
       " 'FH_IPRODPAIK.xlsx',\n",
       " 'import_2015.csv',\n",
       " 'precio_43-2017.xls',\n",
       " 'precios_43-2017.xls',\n",
       " 'temporada-alimentos-report.csv']"
      ]
     },
     "execution_count": 3,
     "metadata": {},
     "output_type": "execute_result"
    }
   ],
   "source": [
    "os.chdir(dwd)\n",
    "files = os.listdir(dwd)\n",
    "files"
   ]
  },
  {
   "cell_type": "code",
   "execution_count": 4,
   "metadata": {
    "collapsed": true
   },
   "outputs": [],
   "source": [
    "dataImp = pd.read_excel('FH_IPRODMESK.xlsx', sheetname='2015', encoding ='utf-8',index_col=0)\n",
    "dataImp.fillna(0,inplace=True)"
   ]
  },
  {
   "cell_type": "code",
   "execution_count": 5,
   "metadata": {
    "collapsed": true
   },
   "outputs": [],
   "source": [
    "dataImp.drop('Total',axis=1,inplace=True)"
   ]
  },
  {
   "cell_type": "code",
   "execution_count": 6,
   "metadata": {},
   "outputs": [
    {
     "data": {
      "text/plain": [
       "Index(['ACELGA', 'AJO', 'ALCACHOFA', 'APIO', 'BERENJENA', 'CALABACÍN',\n",
       "       'CALABAZA', 'CEBOLLA', 'COLES', 'ENDIVIA Y ESCAROLA', 'ESPÁRRAGO',\n",
       "       'ESPINACA', 'GUISANTE', 'JUDÍA', 'LECHUGA', 'MAÍZ DULCE', 'PATATA',\n",
       "       'PEPINO', 'PIMIENTO', 'PUERRO', 'TOMATE', 'ZANAHORIA Y NABO',\n",
       "       'AGUACATE', 'ALBARICOQUE', 'ARÁNDANO', 'CAQUI', 'CEREZA Y GUINDA',\n",
       "       'CIRUELA', 'FRAMBUESA', 'FRESA', 'GROSELLA', 'HIGO', 'KIWI', 'LIMÓN',\n",
       "       'MANDARINA', 'MANGO, GUAYABA', 'MANZANA', 'MELOCOTÓN', 'MELÓN', 'MORA',\n",
       "       'NARANJA', 'NECTARINA', 'OTROS CÍTRICOS', 'PERA', 'PIÑA', 'PLÁTANO',\n",
       "       'POMELO', 'SANDÍA', 'UVA DE MESA'],\n",
       "      dtype='object')"
      ]
     },
     "execution_count": 6,
     "metadata": {},
     "output_type": "execute_result"
    }
   ],
   "source": [
    "dataImp.index"
   ]
  },
  {
   "cell_type": "code",
   "execution_count": 7,
   "metadata": {
    "collapsed": true
   },
   "outputs": [],
   "source": [
    "dataImp = dataImp.loc[pd.notnull(dataImp.index)]"
   ]
  },
  {
   "cell_type": "code",
   "execution_count": 8,
   "metadata": {
    "collapsed": true
   },
   "outputs": [],
   "source": [
    "dataImp.index = [x.lower() for x in dataImp.index.values.tolist()]"
   ]
  },
  {
   "cell_type": "code",
   "execution_count": 9,
   "metadata": {},
   "outputs": [
    {
     "data": {
      "text/plain": [
       "acelga    250\n",
       "dtype: int64"
      ]
     },
     "execution_count": 9,
     "metadata": {},
     "output_type": "execute_result"
    }
   ],
   "source": [
    "dataImp.loc[dataImp.index=='acelga'].transpose().sort_values('acelga',ascending=False).sum()"
   ]
  },
  {
   "cell_type": "code",
   "execution_count": 10,
   "metadata": {},
   "outputs": [
    {
     "data": {
      "text/html": [
       "<div>\n",
       "<style>\n",
       "    .dataframe thead tr:only-child th {\n",
       "        text-align: right;\n",
       "    }\n",
       "\n",
       "    .dataframe thead th {\n",
       "        text-align: left;\n",
       "    }\n",
       "\n",
       "    .dataframe tbody tr th {\n",
       "        vertical-align: top;\n",
       "    }\n",
       "</style>\n",
       "<table border=\"1\" class=\"dataframe\">\n",
       "  <thead>\n",
       "    <tr style=\"text-align: right;\">\n",
       "      <th></th>\n",
       "      <th>Enero</th>\n",
       "      <th>Febrero</th>\n",
       "      <th>Marzo</th>\n",
       "      <th>Abril</th>\n",
       "      <th>Mayo</th>\n",
       "      <th>Junio</th>\n",
       "      <th>Julio</th>\n",
       "      <th>Agosto</th>\n",
       "      <th>Septiembre</th>\n",
       "      <th>Octubre</th>\n",
       "      <th>Noviembre</th>\n",
       "      <th>Diciembre</th>\n",
       "    </tr>\n",
       "  </thead>\n",
       "  <tbody>\n",
       "    <tr>\n",
       "      <th>piña</th>\n",
       "      <td>9301</td>\n",
       "      <td>9542</td>\n",
       "      <td>11424</td>\n",
       "      <td>11310</td>\n",
       "      <td>12949</td>\n",
       "      <td>15430</td>\n",
       "      <td>10470</td>\n",
       "      <td>10663</td>\n",
       "      <td>8323</td>\n",
       "      <td>8860</td>\n",
       "      <td>11963</td>\n",
       "      <td>23299</td>\n",
       "    </tr>\n",
       "    <tr>\n",
       "      <th>plátano</th>\n",
       "      <td>18902</td>\n",
       "      <td>16533</td>\n",
       "      <td>18778</td>\n",
       "      <td>19020</td>\n",
       "      <td>22417</td>\n",
       "      <td>17453</td>\n",
       "      <td>18122</td>\n",
       "      <td>14623</td>\n",
       "      <td>13278</td>\n",
       "      <td>24261</td>\n",
       "      <td>22936</td>\n",
       "      <td>21782</td>\n",
       "    </tr>\n",
       "    <tr>\n",
       "      <th>pomelo</th>\n",
       "      <td>304</td>\n",
       "      <td>74</td>\n",
       "      <td>15</td>\n",
       "      <td>19</td>\n",
       "      <td>190</td>\n",
       "      <td>1392</td>\n",
       "      <td>1844</td>\n",
       "      <td>849</td>\n",
       "      <td>447</td>\n",
       "      <td>247</td>\n",
       "      <td>63</td>\n",
       "      <td>886</td>\n",
       "    </tr>\n",
       "    <tr>\n",
       "      <th>sandía</th>\n",
       "      <td>572</td>\n",
       "      <td>1628</td>\n",
       "      <td>3253</td>\n",
       "      <td>8088</td>\n",
       "      <td>16534</td>\n",
       "      <td>10766</td>\n",
       "      <td>3311</td>\n",
       "      <td>903</td>\n",
       "      <td>108</td>\n",
       "      <td>346</td>\n",
       "      <td>468</td>\n",
       "      <td>363</td>\n",
       "    </tr>\n",
       "    <tr>\n",
       "      <th>uva de mesa</th>\n",
       "      <td>3090</td>\n",
       "      <td>2527</td>\n",
       "      <td>2871</td>\n",
       "      <td>4145</td>\n",
       "      <td>3363</td>\n",
       "      <td>2742</td>\n",
       "      <td>1978</td>\n",
       "      <td>627</td>\n",
       "      <td>1247</td>\n",
       "      <td>2486</td>\n",
       "      <td>3841</td>\n",
       "      <td>5301</td>\n",
       "    </tr>\n",
       "  </tbody>\n",
       "</table>\n",
       "</div>"
      ],
      "text/plain": [
       "             Enero  Febrero  Marzo  Abril   Mayo  Junio  Julio  Agosto  \\\n",
       "piña          9301     9542  11424  11310  12949  15430  10470   10663   \n",
       "plátano      18902    16533  18778  19020  22417  17453  18122   14623   \n",
       "pomelo         304       74     15     19    190   1392   1844     849   \n",
       "sandía         572     1628   3253   8088  16534  10766   3311     903   \n",
       "uva de mesa   3090     2527   2871   4145   3363   2742   1978     627   \n",
       "\n",
       "             Septiembre  Octubre  Noviembre  Diciembre  \n",
       "piña               8323     8860      11963      23299  \n",
       "plátano           13278    24261      22936      21782  \n",
       "pomelo              447      247         63        886  \n",
       "sandía              108      346        468        363  \n",
       "uva de mesa        1247     2486       3841       5301  "
      ]
     },
     "execution_count": 10,
     "metadata": {},
     "output_type": "execute_result"
    }
   ],
   "source": [
    "dataImp.tail()"
   ]
  },
  {
   "cell_type": "code",
   "execution_count": null,
   "metadata": {
    "collapsed": true
   },
   "outputs": [],
   "source": []
  },
  {
   "cell_type": "code",
   "execution_count": 15,
   "metadata": {
    "collapsed": true
   },
   "outputs": [],
   "source": [
    "product = 'acelga/'\n",
    "pro = 'production/'\n",
    "imp = 'import/'\n",
    "exp = 'export/'\n",
    "pwd = '/Volumes/MacintoshHD/_GitHub/journey-of-food/data/producto/'\n",
    "aux = '/Volumes/MacintoshHD/_GitHub/journey-of-food/data/aux/'\n",
    "dwd = '/Volumes/MacintoshHD/_GitHub/journey-of-food/data/raw/'"
   ]
  },
  {
   "cell_type": "code",
   "execution_count": 11,
   "metadata": {},
   "outputs": [
    {
     "data": {
      "text/plain": [
       "['FH_EPRODMESK.xlsx',\n",
       " 'FH_EPRODPAISK.xlsx',\n",
       " 'FH_EPROVPRODK.xlsx',\n",
       " 'FH_IPRODMESK.xlsx',\n",
       " 'FH_IPRODPAIK.xlsx',\n",
       " 'import_2015.csv',\n",
       " '~$FH_IPRODPAIK.xlsx']"
      ]
     },
     "execution_count": 11,
     "metadata": {},
     "output_type": "execute_result"
    }
   ],
   "source": [
    "os.chdir(dwd)\n",
    "files = os.listdir(dwd)\n",
    "files"
   ]
  },
  {
   "cell_type": "code",
   "execution_count": 12,
   "metadata": {
    "collapsed": true
   },
   "outputs": [],
   "source": [
    "dataExp = pd.read_excel(files[0], sheetname='2015', encoding ='utf-8',index_col=0,na_values='x')\n",
    "dataExp.fillna(0,inplace=True)"
   ]
  },
  {
   "cell_type": "code",
   "execution_count": 13,
   "metadata": {
    "collapsed": true
   },
   "outputs": [],
   "source": [
    "dataExp.drop('Total',axis = 1, inplace=True)"
   ]
  },
  {
   "cell_type": "code",
   "execution_count": 14,
   "metadata": {
    "collapsed": true
   },
   "outputs": [],
   "source": [
    "dataExp = dataExp.loc[pd.notnull(dataExp.index)]"
   ]
  },
  {
   "cell_type": "code",
   "execution_count": 15,
   "metadata": {
    "collapsed": true
   },
   "outputs": [],
   "source": [
    "dataExp.index = [x.lower() for x in dataExp.index.values.tolist()]"
   ]
  },
  {
   "cell_type": "code",
   "execution_count": 16,
   "metadata": {},
   "outputs": [
    {
     "data": {
      "text/plain": [
       "49"
      ]
     },
     "execution_count": 16,
     "metadata": {},
     "output_type": "execute_result"
    }
   ],
   "source": [
    "len(dataImp)"
   ]
  },
  {
   "cell_type": "code",
   "execution_count": 67,
   "metadata": {
    "collapsed": true
   },
   "outputs": [],
   "source": [
    "for producto in dataImp.index.values:\n",
    "    locale.setlocale(locale.LC_TIME, 'es_ES.UTF-8')\n",
    "    datosImp = dataImp.loc[dataImp.index==producto]\n",
    "    datosExp = dataExp.loc[dataImp.index==producto]\n",
    "    datos = pd.concat([datosImp, datosExp])\n",
    "    datos.index = ['Importado','Exportado']\n",
    "    datos.columns=['01-Ene-2015','01-Feb-2015','01-Mar-2015','01-Abr-2015','01-May-2015','01-Jun-2015','01-Jul-2015','01-Ago-2015','01-Sep-2015','01-Oct-2015','01-Nov-2015','01-Dic-2015']\n",
    "    datos = datos.transpose()\n",
    "    datos.index.name = 'Mes' \n",
    "    try:\n",
    "        datos.to_csv(pwd+producto+'/'+producto+'_import_export_mes.csv')\n",
    "    except:\n",
    "        datos.to_csv(pwd+producto+'_import_export_mes.csv')"
   ]
  },
  {
   "cell_type": "code",
   "execution_count": 65,
   "metadata": {},
   "outputs": [
    {
     "data": {
      "text/plain": [
       "Index(['01-Ene-2015', '01-Feb-2015', '01-Mar-2015', '01-Abr-2015',\n",
       "       '01-May-2015', '01-Jun-2015', '01-Jul-2015', '01-Ago-2015',\n",
       "       '01-Sep-2015', '01-Oct-2015', '01-Nov-2015', '01-Dic-2015'],\n",
       "      dtype='object', name='Mes')"
      ]
     },
     "execution_count": 65,
     "metadata": {},
     "output_type": "execute_result"
    }
   ],
   "source": [
    "datos.index"
   ]
  },
  {
   "cell_type": "code",
   "execution_count": null,
   "metadata": {
    "collapsed": true
   },
   "outputs": [],
   "source": []
  }
 ],
 "metadata": {
  "kernelspec": {
   "display_name": "Python [conda root]",
   "language": "python",
   "name": "conda-root-py"
  },
  "language_info": {
   "codemirror_mode": {
    "name": "ipython",
    "version": 3
   },
   "file_extension": ".py",
   "mimetype": "text/x-python",
   "name": "python",
   "nbconvert_exporter": "python",
   "pygments_lexer": "ipython3",
   "version": "3.5.3"
  }
 },
 "nbformat": 4,
 "nbformat_minor": 2
}
